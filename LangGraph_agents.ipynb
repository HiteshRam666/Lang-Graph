{
 "cells": [
  {
   "cell_type": "code",
   "execution_count": 1,
   "metadata": {},
   "outputs": [],
   "source": [
    "import os \n",
    "from dotenv import load_dotenv \n",
    "load_dotenv() \n",
    "os.environ[\"OPENAI_API_KEY\"] = os.getenv(\"OPENAI_API_KEY\")"
   ]
  },
  {
   "cell_type": "code",
   "execution_count": 2,
   "metadata": {},
   "outputs": [],
   "source": [
    "def multiply(a: int, b: int) -> int:\n",
    "    \"\"\"\n",
    "    This function multiplies two numbers\n",
    "    \"\"\"\n",
    "    return a * b \n",
    "\n",
    "def add(a: int, b: int) -> int:\n",
    "    \"\"\"\n",
    "    This function adds two numbers\n",
    "    \"\"\"\n",
    "    return a + b \n",
    "\n",
    "def subtract(a: int, b: int) -> int:\n",
    "    \"\"\"This function subtracts two numbers\"\"\"\n",
    "    return a - b  \n",
    "\n",
    "def divide(a: int, b: int) -> int:\n",
    "    \"\"\"This function divides two numbers\"\"\"\n",
    "    return a / b "
   ]
  },
  {
   "cell_type": "code",
   "execution_count": 3,
   "metadata": {},
   "outputs": [],
   "source": [
    "tools = [multiply, add, subtract, divide] "
   ]
  },
  {
   "cell_type": "code",
   "execution_count": 4,
   "metadata": {},
   "outputs": [],
   "source": [
    "from langchain_openai import ChatOpenAI \n",
    "llm = ChatOpenAI(model = \"gpt-4o-mini\") "
   ]
  },
  {
   "cell_type": "code",
   "execution_count": 5,
   "metadata": {},
   "outputs": [],
   "source": [
    "llm_with_tools = llm.bind_tools(tools, parallel_tool_calls=False) "
   ]
  },
  {
   "cell_type": "code",
   "execution_count": 6,
   "metadata": {},
   "outputs": [],
   "source": [
    "from typing import TypedDict, Annotated\n",
    "from langchain_core.messages import HumanMessage, AnyMessage, SystemMessage \n",
    "from langgraph.graph import StateGraph, START, END \n",
    "from langgraph.graph.message import add_messages, MessagesState \n",
    "\n",
    "class MessageState(TypedDict):\n",
    "    messages: Annotated[list[AnyMessage], add_messages]"
   ]
  },
  {
   "cell_type": "code",
   "execution_count": 7,
   "metadata": {},
   "outputs": [],
   "source": [
    "sys_msg = SystemMessage(content= \"You're a helpful assistant tasked with performing arithmetic operations on a sets of inputs.\")\n",
    "\n",
    "def assistant(state: MessagesState) -> MessagesState:\n",
    "    return {\"messages\": [llm_with_tools.invoke([sys_msg] +state[\"messages\"])]}"
   ]
  },
  {
   "cell_type": "code",
   "execution_count": 8,
   "metadata": {},
   "outputs": [
    {
     "data": {
      "image/png": "[encoded data removed]",
      "text/plain": [
       "<IPython.core.display.Image object>"
      ]
     },
     "metadata": {},
     "output_type": "display_data"
    }
   ],
   "source": [
    "from langgraph.graph import StateGraph, START, END \n",
    "from langgraph.prebuilt import ToolNode, tools_condition \n",
    "from IPython.display import Image, display \n",
    "\n",
    "builder = StateGraph(MessagesState)\n",
    "# Nodes \n",
    "builder.add_node(\"assistant\", assistant)\n",
    "builder.add_node(\"tools\", ToolNode(tools))\n",
    "\n",
    "# Edges  \n",
    "builder.add_edge(START, \"assistant\") \n",
    "builder.add_conditional_edges(\"assistant\", \n",
    "                              tools_condition)\n",
    "builder.add_edge(\"tools\", \"assistant\") \n",
    "builder.add_edge(\"tools\", END) \n",
    "\n",
    "react_graph = builder.compile() \n",
    "\n",
    "display(Image(react_graph.get_graph().draw_mermaid_png()))"
   ]
  },
  {
   "cell_type": "code",
   "execution_count": 9,
   "metadata": {},
   "outputs": [],
   "source": [
    "messages = [HumanMessage(content = \"What is 2 times 3\", name = \"Lance\")] \n",
    "messages = react_graph.invoke({\"messages\": messages})"
   ]
  },
  {
   "cell_type": "code",
   "execution_count": 10,
   "metadata": {},
   "outputs": [
    {
     "name": "stdout",
     "output_type": "stream",
     "text": [
      "================================\u001b[1m Human Message \u001b[0m=================================\n",
      "Name: Lance\n",
      "\n",
      "What is 2 times 3\n",
      "==================================\u001b[1m Ai Message \u001b[0m==================================\n",
      "Tool Calls:\n",
      "  multiply (call_lwjix3AlYzMymrv8SVMpygMO)\n",
      " Call ID: call_lwjix3AlYzMymrv8SVMpygMO\n",
      "  Args:\n",
      "    a: 2\n",
      "    b: 3\n",
      "=================================\u001b[1m Tool Message \u001b[0m=================================\n",
      "Name: multiply\n",
      "\n",
      "6\n",
      "==================================\u001b[1m Ai Message \u001b[0m==================================\n",
      "\n",
      "2 times 3 is 6.\n"
     ]
    }
   ],
   "source": [
    "for m in messages[\"messages\"]:\n",
    "    m.pretty_print()"
   ]
  },
  {
   "cell_type": "code",
   "execution_count": 11,
   "metadata": {},
   "outputs": [
    {
     "name": "stdout",
     "output_type": "stream",
     "text": [
      "================================\u001b[1m Human Message \u001b[0m=================================\n",
      "\n",
      "Multiply by 2\n",
      "==================================\u001b[1m Ai Message \u001b[0m==================================\n",
      "\n",
      "Please provide a number that you would like to multiply by 2.\n"
     ]
    }
   ],
   "source": [
    "messages = [HumanMessage(content = \"Multiply by 2\")] \n",
    "messages = react_graph.invoke({\"messages\": messages}) \n",
    "for m in messages[\"messages\"]:\n",
    "    m.pretty_print()"
   ]
  },
  {
   "cell_type": "markdown",
   "metadata": {},
   "source": [
    "### **Memory in Agents using MemorySaver**"
   ]
  },
  {
   "cell_type": "code",
   "execution_count": 12,
   "metadata": {},
   "outputs": [],
   "source": [
    "from langgraph.checkpoint.memory import MemorySaver \n",
    "\n",
    "memory = MemorySaver() \n",
    "\n",
    "react_graph = builder.compile(checkpointer=memory) "
   ]
  },
  {
   "cell_type": "code",
   "execution_count": 13,
   "metadata": {},
   "outputs": [
    {
     "name": "stdout",
     "output_type": "stream",
     "text": [
      "================================\u001b[1m Human Message \u001b[0m=================================\n",
      "\n",
      "Add 3 and 3\n",
      "==================================\u001b[1m Ai Message \u001b[0m==================================\n",
      "Tool Calls:\n",
      "  add (call_TvUYI1d0RFTuhIam4o6iwVdT)\n",
      " Call ID: call_TvUYI1d0RFTuhIam4o6iwVdT\n",
      "  Args:\n",
      "    a: 3\n",
      "    b: 3\n",
      "=================================\u001b[1m Tool Message \u001b[0m=================================\n",
      "Name: add\n",
      "\n",
      "6\n",
      "==================================\u001b[1m Ai Message \u001b[0m==================================\n",
      "\n",
      "The sum of 3 and 3 is 6.\n"
     ]
    }
   ],
   "source": [
    "config = {\"configurable\": {\"thread_id\": \"1\"}}\n",
    "\n",
    "messages = [HumanMessage(content = \"Add 3 and 3\")] \n",
    "\n",
    "messages = react_graph.invoke({\"messages\": messages}, config) \n",
    "for m in messages[\"messages\"]:\n",
    "    m.pretty_print()"
   ]
  },
  {
   "cell_type": "code",
   "execution_count": 14,
   "metadata": {},
   "outputs": [
    {
     "name": "stdout",
     "output_type": "stream",
     "text": [
      "================================\u001b[1m Human Message \u001b[0m=================================\n",
      "\n",
      "Add 3 and 3\n",
      "==================================\u001b[1m Ai Message \u001b[0m==================================\n",
      "Tool Calls:\n",
      "  add (call_TvUYI1d0RFTuhIam4o6iwVdT)\n",
      " Call ID: call_TvUYI1d0RFTuhIam4o6iwVdT\n",
      "  Args:\n",
      "    a: 3\n",
      "    b: 3\n",
      "=================================\u001b[1m Tool Message \u001b[0m=================================\n",
      "Name: add\n",
      "\n",
      "6\n",
      "==================================\u001b[1m Ai Message \u001b[0m==================================\n",
      "\n",
      "The sum of 3 and 3 is 6.\n",
      "================================\u001b[1m Human Message \u001b[0m=================================\n",
      "\n",
      "Multiply that by 2\n",
      "==================================\u001b[1m Ai Message \u001b[0m==================================\n",
      "Tool Calls:\n",
      "  multiply (call_C7BSEGX0jucatInnEnXTfcIE)\n",
      " Call ID: call_C7BSEGX0jucatInnEnXTfcIE\n",
      "  Args:\n",
      "    a: 6\n",
      "    b: 2\n",
      "=================================\u001b[1m Tool Message \u001b[0m=================================\n",
      "Name: multiply\n",
      "\n",
      "12\n",
      "==================================\u001b[1m Ai Message \u001b[0m==================================\n",
      "\n",
      "The result of multiplying 6 by 2 is 12.\n"
     ]
    }
   ],
   "source": [
    "messages = [HumanMessage(content = \"Multiply that by 2\")] \n",
    "messages = react_graph.invoke({\"messages\": messages}, config) \n",
    "for m in messages[\"messages\"]:\n",
    "    m.pretty_print()"
   ]
  },
  {
   "cell_type": "code",
   "execution_count": 74,
   "metadata": {},
   "outputs": [],
   "source": [
    "import os\n",
    "from dotenv import load_dotenv\n",
    "from typing import TypedDict, Annotated, Union, Literal\n",
    "from langchain_openai import ChatOpenAI\n",
    "from langchain_core.messages import HumanMessage, SystemMessage, AnyMessage\n",
    "from langgraph.graph import StateGraph, START, END\n",
    "from langgraph.graph.message import add_messages\n",
    "from langgraph.prebuilt import ToolNode"
   ]
  },
  {
   "cell_type": "code",
   "execution_count": 75,
   "metadata": {},
   "outputs": [],
   "source": [
    "load_dotenv()\n",
    "os.environ[\"OPENAI_API_KEY\"] = os.getenv(\"OPENAI_API_KEY\")"
   ]
  },
  {
   "cell_type": "code",
   "execution_count": 76,
   "metadata": {},
   "outputs": [],
   "source": [
    "# Define tools\n",
    "def create_title(topic: str) -> str:\n",
    "    \"\"\"Create a title for the given topic\"\"\"\n",
    "    return f\"Title: {topic}\"\n",
    "\n",
    "def create_content(topic: str) -> str:\n",
    "    \"\"\"Create content for the given topic\"\"\"\n",
    "    return f\"Content about {topic}\""
   ]
  },
  {
   "cell_type": "code",
   "execution_count": 77,
   "metadata": {},
   "outputs": [],
   "source": [
    "# Initialize LLM and tools\n",
    "llm = ChatOpenAI(model=\"gpt-3.5-turbo\")\n",
    "tools = [create_title, create_content]\n",
    "llm_with_tools = llm.bind_tools(tools)"
   ]
  },
  {
   "cell_type": "code",
   "execution_count": 78,
   "metadata": {},
   "outputs": [],
   "source": [
    "class ContentState(TypedDict):\n",
    "    topic: str\n",
    "    title: str\n",
    "    content: str\n",
    "    messages: Annotated[list[AnyMessage], add_messages]"
   ]
  },
  {
   "cell_type": "code",
   "execution_count": 79,
   "metadata": {},
   "outputs": [],
   "source": [
    "def content_agent(state: ContentState) -> ContentState:\n",
    "    \"\"\"Agent to handle content creation decisions\"\"\"\n",
    "    system_msg = SystemMessage(content=\"\"\"You are a content creation assistant.\n",
    "    Use the available tools to:\n",
    "    1. First create a title using create_title\n",
    "    2. Then create content using create_content\n",
    "    Process one step at a time.\"\"\")\n",
    "    \n",
    "    response = llm_with_tools.invoke([system_msg] + state[\"messages\"])\n",
    "    \n",
    "    return {\n",
    "        \"topic\": state[\"topic\"],\n",
    "        \"title\": state[\"title\"],\n",
    "        \"content\": state[\"content\"],\n",
    "        \"messages\": state[\"messages\"] + [response]\n",
    "    }"
   ]
  },
  {
   "cell_type": "code",
   "execution_count": 80,
   "metadata": {},
   "outputs": [],
   "source": [
    "def should_continue(state: ContentState) -> Union[Literal[\"continue\"], Literal[\"end\"]]:\n",
    "    \"\"\"Determine if we should continue processing\"\"\"\n",
    "    last_message = state[\"messages\"][-1]\n",
    "    \n",
    "    # Check if the last message has tool calls\n",
    "    if hasattr(last_message, \"additional_kwargs\") and last_message.additional_kwargs.get(\"tool_calls\"):\n",
    "        return \"continue\"\n",
    "    return \"end\""
   ]
  },
  {
   "cell_type": "code",
   "execution_count": 82,
   "metadata": {},
   "outputs": [],
   "source": [
    "# Create the graph\n",
    "builder = StateGraph(ContentState)\n",
    "# Add nodes\n",
    "builder.add_node(\"content_agent\", content_agent)\n",
    "builder.add_node(\"tools\", ToolNode(tools))\n",
    "# Add edges \n",
    "builder.add_edge(START, \"content_agent\")\n",
    "builder.add_conditional_edges(\n",
    "    \"content_agent\",\n",
    "    should_continue,\n",
    "    {\n",
    "        \"continue\": \"tools\",\n",
    "        \"end\": END\n",
    "    }\n",
    ")\n",
    "builder.add_edge(\"tools\", \"content_agent\")\n",
    "workflow = builder.compile()"
   ]
  },
  {
   "cell_type": "code",
   "execution_count": 83,
   "metadata": {},
   "outputs": [
    {
     "data": {
      "image/png": "[encoded data removed]",
      "text/plain": [
       "<IPython.core.display.Image object>"
      ]
     },
     "metadata": {},
     "output_type": "display_data"
    }
   ],
   "source": [
    "display(Image(workflow.get_graph().draw_mermaid_png()))\n"
   ]
  },
  {
   "cell_type": "code",
   "execution_count": 96,
   "metadata": {},
   "outputs": [],
   "source": [
    "def generate_content(topic: str):\n",
    "    \"\"\"Function to generate content for a given topic\"\"\"\n",
    "    initial_state = {\n",
    "        \"topic\": topic,\n",
    "        \"title\": \"\",\n",
    "        \"content\": \"\",\n",
    "        \"messages\": [HumanMessage(content=f\"Create content about: {topic}\")]\n",
    "    }\n",
    "    \n",
    "    result = workflow.invoke(initial_state)\n",
    "\n",
    "    print(\"\\nGenerated Content:\")\n",
    "    print(\"---------------------\")\n",
    "    for message in result[\"messages\"]:\n",
    "        print(message.content)"
   ]
  },
  {
   "cell_type": "code",
   "execution_count": 97,
   "metadata": {},
   "outputs": [
    {
     "name": "stdout",
     "output_type": "stream",
     "text": [
      "\n",
      "Generated Content:\n",
      "---------------------\n",
      "Create content about: Artificial Intelligence and its impact on society\n",
      "\n",
      "Title: Artificial Intelligence and its impact on society\n",
      "\n",
      "Content about Artificial Intelligence and its impact on society\n",
      "Artificial Intelligence (AI) has become a transformative force in society, impacting various aspects of human life. The integration of AI technologies has brought about significant changes in the way we live, work, and interact. From personalized recommendations on streaming platforms to autonomous vehicles on the roads, AI has permeated numerous sectors, revolutionizing processes and enhancing efficiency.\n",
      "\n",
      "One of the key areas where AI is making a substantial impact is healthcare. Through the use of AI algorithms, medical professionals can analyze large volumes of data to diagnose diseases more accurately and develop personalized treatment plans. AI-powered tools can assist in predicting patient outcomes, identifying patterns in medical images, and even aiding in drug discovery processes, ultimately improving patient care and saving lives.\n",
      "\n",
      "In the realm of business and industry, AI technologies are optimizing operations and increasing productivity. Automated systems powered by AI can streamline supply chain management, enhance customer service through chatbots, and enable predictive maintenance in manufacturing processes. Companies are leveraging AI to make data-driven decisions, gain insights from vast amounts of information, and improve overall business performance.\n",
      "\n",
      "Despite the numerous benefits AI brings, its impact on society raises concerns about job displacement and ethical considerations. The automation of tasks previously performed by humans could lead to job losses in certain sectors, prompting the need for upskilling and reskilling the workforce. Additionally, the ethical use of AI, including issues related to data privacy, bias in algorithms, and the potential for misuse, requires careful regulation and oversight to ensure AI technologies are developed and deployed responsibly.\n",
      "\n",
      "As AI continues to advance and become more integrated into society, it is crucial for policymakers, businesses, and individuals to navigate the complexities of this technology carefully. By fostering a dialogue on the ethical and societal implications of AI, we can harness its potential for positive change while mitigating risks and ensuring that the benefits of AI are equitably distributed across society.\n"
     ]
    }
   ],
   "source": [
    "generate_content(\"Artificial Intelligence and its impact on society\")"
   ]
  },
  {
   "cell_type": "code",
   "execution_count": null,
   "metadata": {},
   "outputs": [],
   "source": []
  }
 ],
 "metadata": {
  "kernelspec": {
   "display_name": "Python 3",
   "language": "python",
   "name": "python3"
  },
  "language_info": {
   "codemirror_mode": {
    "name": "ipython",
    "version": 3
   },
   "file_extension": ".py",
   "mimetype": "text/x-python",
   "name": "python",
   "nbconvert_exporter": "python",
   "pygments_lexer": "ipython3",
   "version": "3.12.0"
  }
 },
 "nbformat": 4,
 "nbformat_minor": 2
}
