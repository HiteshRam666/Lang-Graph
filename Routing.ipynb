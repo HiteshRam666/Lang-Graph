{
 "cells": [
  {
   "cell_type": "code",
   "execution_count": 1,
   "metadata": {},
   "outputs": [],
   "source": [
    "from typing import TypedDict\n",
    "import os \n",
    "from dotenv import load_dotenv \n",
    "from langchain_openai import ChatOpenAI"
   ]
  },
  {
   "cell_type": "code",
   "execution_count": 2,
   "metadata": {},
   "outputs": [],
   "source": [
    "load_dotenv() \n",
    "os.environ[\"OPENAI_API_KEY\"] = os.getenv(\"OPENAI_API_KEY\")"
   ]
  },
  {
   "cell_type": "code",
   "execution_count": 3,
   "metadata": {},
   "outputs": [],
   "source": [
    "from typing import Literal \n",
    "from pydantic import BaseModel, Field \n",
    "from langchain_core.messages import HumanMessage, SystemMessage\n",
    "\n",
    "class Route(BaseModel):\n",
    "    step: Literal[\"poem\", \"story\", \"joke\"] = Field(\n",
    "        None, description=\"The next step in the routing process\" \n",
    "    )\n",
    "\n",
    "llm = ChatOpenAI(model=\"gpt-4o-mini\", temperature=0) \n",
    "\n",
    "router = llm.with_structured_output(Route)\n"
   ]
  },
  {
   "cell_type": "code",
   "execution_count": 4,
   "metadata": {},
   "outputs": [],
   "source": [
    "class State(TypedDict):\n",
    "    input: str \n",
    "    decision: str \n",
    "    output: str"
   ]
  },
  {
   "cell_type": "code",
   "execution_count": 5,
   "metadata": {},
   "outputs": [],
   "source": [
    "def llm1_call(state: State) -> State:\n",
    "    \"\"\"Write a story\"\"\" \n",
    "    result = llm.invoke(state[\"input\"]) \n",
    "    return {\"output\": result.content} \n",
    "\n",
    "def llm2_call(state: State) -> State:\n",
    "    \"\"\"Write a joke\"\"\" \n",
    "    result = llm.invoke(state[\"input\"]) \n",
    "    return {\"output\": result.content} \n",
    "\n",
    "def llm3_call(state: State) -> State:\n",
    "    \"\"\"Write a poem\"\"\"\n",
    "    result = llm.invoke(state[\"input\"]) \n",
    "    return {\"output\": result.content} "
   ]
  },
  {
   "cell_type": "code",
   "execution_count": 8,
   "metadata": {},
   "outputs": [],
   "source": [
    "from langchain_core.messages import HumanMessage, SystemMessage\n",
    "def llm_with_router(state: State) -> State:\n",
    "    \"\"\"Route the input to the appropriate node\"\"\"\n",
    "    decision = router.invoke(\n",
    "        [\n",
    "            SystemMessage(\n",
    "                content = \"Route the input to story, joke or poem based on the user's request\" \n",
    "            ), \n",
    "            HumanMessage(content = state[\"input\"])\n",
    "        ]\n",
    "    )\n",
    "    return {\"decision\": decision.step}\n",
    "\n",
    "def route_decision(state: State):\n",
    "    if state[\"decision\"] == \"story\":\n",
    "        return \"llm1_call\"\n",
    "    elif state[\"decision\"] == \"joke\":\n",
    "        return \"llm2_call\" \n",
    "    elif state[\"decision\"] == \"poem\":\n",
    "        return \"llm3_call\""
   ]
  },
  {
   "cell_type": "code",
   "execution_count": 13,
   "metadata": {},
   "outputs": [],
   "source": [
    "from langgraph.graph import StateGraph, START, END \n",
    "router_builder = StateGraph(State)\n",
    "router_builder.add_node(\"llm1_call\", llm1_call)\n",
    "router_builder.add_node(\"llm2_call\", llm2_call)\n",
    "router_builder.add_node(\"llm3_call\", llm3_call)\n",
    "router_builder.add_node(\"llm_with_router\", llm_with_router) \n",
    "\n",
    "# Add edges \n",
    "router_builder.add_edge(START, \"llm_with_router\") \n",
    "router_builder.add_conditional_edges(\n",
    "    \"llm_with_router\", \n",
    "    route_decision, \n",
    "    {\n",
    "        \"llm1_call\": \"llm1_call\", \n",
    "        \"llm2_call\": \"llm2_call\", \n",
    "        \"llm3_call\": \"llm3_call\",\n",
    "    }\n",
    ")\n",
    "router_builder.add_edge(\"llm1_call\", END) \n",
    "router_builder.add_edge(\"llm2_call\", END) \n",
    "router_builder.add_edge(\"llm3_call\", END)\n",
    "\n",
    "router_workflow = router_builder.compile() \n"
   ]
  },
  {
   "cell_type": "code",
   "execution_count": 14,
   "metadata": {},
   "outputs": [
    {
     "data": {
      "image/png": "[encoded data removed]",
      "text/plain": [
       "<IPython.core.display.Image object>"
      ]
     },
     "metadata": {},
     "output_type": "display_data"
    }
   ],
   "source": [
    "from IPython.display import Image, display \n",
    "display(Image(router_workflow.get_graph().draw_mermaid_png())) \n"
   ]
  },
  {
   "cell_type": "code",
   "execution_count": 15,
   "metadata": {},
   "outputs": [
    {
     "data": {
      "text/plain": [
       "{'input': 'Write a story about cats',\n",
       " 'decision': 'story',\n",
       " 'output': 'Once upon a time in a quaint little village nestled between rolling hills and lush green fields, there was a peculiar phenomenon: every cat in the village had a secret. By day, they lounged in sunbeams, chased butterflies, and napped in cozy corners. But by night, they transformed into the Guardians of Whiskerwood, a mystical realm that existed just beyond the village’s borders.\\n\\nThe leader of the Guardians was a wise old tabby named Sir Whiskers. With his grizzled fur and piercing green eyes, he commanded respect from all the cats in the village. Sir Whiskers had a special mission: to protect the enchanted forest of Whiskerwood from the mischievous spirits that sought to disrupt its harmony.\\n\\nOne evening, as the sun dipped below the horizon and painted the sky in hues of orange and purple, the cats gathered at the ancient oak tree at the edge of the village. It was time for their nightly meeting. Sir Whiskers stood atop a mossy rock, his voice steady and calm.\\n\\n“Fellow Guardians,” he began, “tonight, we face a challenge. The spirits of mischief have been spotted near the Moonlit Glade, and we must ensure they do not disturb the peace of Whiskerwood.”\\n\\nAmong the gathered cats was a young calico named Pippa. Eager and adventurous, she had always dreamed of proving herself as a Guardian. With a flick of her tail, she stepped forward. “I want to help, Sir Whiskers! I can scout ahead and see what the spirits are up to.”\\n\\nSir Whiskers regarded her with a thoughtful gaze. “Very well, Pippa. But remember, the spirits can be tricky. Stay alert and return quickly with any news.”\\n\\nWith a determined nod, Pippa dashed into the shadows, her heart racing with excitement. The path to the Moonlit Glade was familiar, but tonight it felt different—charged with an energy that made her fur stand on end. As she approached the glade, she could hear the faint sound of laughter, like tinkling bells carried on the wind.\\n\\nPeeking through the underbrush, Pippa saw the spirits—tiny, shimmering creatures with mischievous grins, darting around like fireflies. They were playing pranks on the woodland animals, tying their tails in knots and hiding their food. Pippa’s heart sank. If the spirits continued their antics, the balance of Whiskerwood would be disrupted.\\n\\nGathering her courage, Pippa stepped into the clearing. “Hey! You spirits!” she called out, her voice steady despite her racing heart. The spirits paused, their laughter fading as they turned to face her.\\n\\n“What do we have here?” one of them chimed, its voice like the tinkling of glass. “A little cat thinks she can stop us?”\\n\\n“I’m not afraid of you!” Pippa declared, puffing out her chest. “You need to stop this nonsense. The animals of Whiskerwood deserve peace, not your tricks!”\\n\\nThe spirits exchanged glances, their expressions shifting from amusement to curiosity. “And what will you do if we don’t?” another spirit asked, tilting its head.\\n\\nPippa thought quickly. “If you promise to leave the animals alone, I’ll challenge you to a game! If I win, you must cease your pranks. If you win, I’ll let you play tricks on me for a whole night.”\\n\\nThe spirits giggled, intrigued by her boldness. “A game, you say? What kind of game?”\\n\\n“Hide and seek!” Pippa proposed, her heart pounding. “You’re good at hiding, and I’m good at seeking. Let’s see who wins!”\\n\\nThe spirits agreed, and the game began. Pippa counted to twenty, her voice echoing through the glade, while the spirits scattered like leaves in the wind. When she opened her eyes, she set off, her senses heightened. She followed the faintest whispers of laughter, her instincts guiding her through the trees.\\n\\nOne by one, she found the spirits, using her agility and cleverness to outsmart them. As the last spirit was discovered, Pippa felt a surge of triumph. “I found you all!” she exclaimed, her eyes sparkling with excitement.\\n\\nThe spirits, though initially disappointed, couldn’t help but admire her tenacity. “You’re quite the seeker, little cat,” one of them said, a hint of respect in its voice. “We accept your terms. We shall leave the animals in peace.”\\n\\nWith a flick of their tiny hands, the spirits vanished into the night, leaving behind a gentle breeze that rustled the leaves. Pippa raced back to the ancient oak, her heart swelling with pride. She had done it! She had protected Whiskerwood.\\n\\nWhen she arrived, the other cats greeted her with cheers. Sir Whiskers smiled, his eyes twinkling with approval. “You have proven yourself tonight, Pippa. You are a true Guardian of Whiskerwood.”\\n\\nFrom that night on, Pippa became a celebrated member of the Guardians, her bravery and quick thinking inspiring other young cats in the village. And as the moon shone brightly over Whiskerwood, the cats continued their nightly adventures, forever bound by their secrets and the magic of their enchanted realm.'}"
      ]
     },
     "execution_count": 15,
     "metadata": {},
     "output_type": "execute_result"
    }
   ],
   "source": [
    "router_workflow.invoke({\"input\": \"Write a story about cats\"})"
   ]
  },
  {
   "cell_type": "code",
   "execution_count": null,
   "metadata": {},
   "outputs": [],
   "source": []
  }
 ],
 "metadata": {
  "kernelspec": {
   "display_name": "Python 3",
   "language": "python",
   "name": "python3"
  },
  "language_info": {
   "codemirror_mode": {
    "name": "ipython",
    "version": 3
   },
   "file_extension": ".py",
   "mimetype": "text/x-python",
   "name": "python",
   "nbconvert_exporter": "python",
   "pygments_lexer": "ipython3",
   "version": "3.12.0"
  }
 },
 "nbformat": 4,
 "nbformat_minor": 2
}
