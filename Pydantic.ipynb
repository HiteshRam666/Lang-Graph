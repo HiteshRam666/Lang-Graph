{
 "cells": [
  {
   "cell_type": "markdown",
   "metadata": {},
   "source": [
    "### **One Node Runtime Validation**"
   ]
  },
  {
   "cell_type": "code",
   "execution_count": 1,
   "metadata": {},
   "outputs": [],
   "source": [
    "from langgraph.graph import StateGraph, START, END \n",
    "from pydantic import BaseModel \n",
    "\n",
    "class OverallState(BaseModel):\n",
    "    a : str \n",
    "\n",
    "def node(state: OverallState):\n",
    "    return {\"a\": \"Hi my name is Hitesh!\"}"
   ]
  },
  {
   "cell_type": "code",
   "execution_count": 2,
   "metadata": {},
   "outputs": [],
   "source": [
    "builder = StateGraph(OverallState)\n",
    "builder.add_node(node) \n",
    "builder.add_edge(START, \"node\") \n",
    "builder.add_edge(\"node\", END) \n",
    "graph = builder.compile() "
   ]
  },
  {
   "cell_type": "code",
   "execution_count": 3,
   "metadata": {},
   "outputs": [
    {
     "data": {
      "text/plain": [
       "{'a': 'Hi my name is Hitesh!'}"
      ]
     },
     "execution_count": 3,
     "metadata": {},
     "output_type": "execute_result"
    }
   ],
   "source": [
    "graph.invoke({\"a\": \"Hello\"})"
   ]
  },
  {
   "cell_type": "code",
   "execution_count": 5,
   "metadata": {},
   "outputs": [
    {
     "name": "stdout",
     "output_type": "stream",
     "text": [
      "Exception was raised because a value of type int was passed\n"
     ]
    }
   ],
   "source": [
    "try:\n",
    "    graph.invoke({\"a\": 20})\n",
    "except Exception as e:\n",
    "    print(\"Exception was raised because a value of type int was passed\")"
   ]
  },
  {
   "cell_type": "markdown",
   "metadata": {},
   "source": [
    "### **Multi Node Runtime Validation**"
   ]
  },
  {
   "cell_type": "code",
   "execution_count": 6,
   "metadata": {},
   "outputs": [],
   "source": [
    "from langgraph.graph import StateGraph, START, END \n",
    "from typing import TypedDict \n",
    "from pydantic import BaseModel \n",
    "\n",
    "class OverallState(BaseModel):\n",
    "    a: str \n",
    "\n",
    "def bad_node(state: OverallState):\n",
    "    return {\n",
    "        \"a\": 123 # Invalid\n",
    "        }\n",
    "\n",
    "def ok_node(state: OverallState):\n",
    "    return {\n",
    "        \"a\" : \"Good\" \n",
    "    }"
   ]
  },
  {
   "cell_type": "code",
   "execution_count": 10,
   "metadata": {},
   "outputs": [
    {
     "name": "stderr",
     "output_type": "stream",
     "text": [
      "Adding a node to a graph that has already been compiled. This will not be reflected in the compiled graph.\n",
      "Adding a node to a graph that has already been compiled. This will not be reflected in the compiled graph.\n",
      "Adding an edge to a graph that has already been compiled. This will not be reflected in the compiled graph.\n",
      "Adding an edge to a graph that has already been compiled. This will not be reflected in the compiled graph.\n",
      "Adding an edge to a graph that has already been compiled. This will not be reflected in the compiled graph.\n"
     ]
    }
   ],
   "source": [
    "builer = StateGraph(OverallState)\n",
    "builder.add_node(bad_node) \n",
    "builder.add_node(ok_node) \n",
    "builder.add_edge(START, \"bad_node\")\n",
    "builder.add_edge(\"bad_node\", \"ok_node\")\n",
    "builder.add_edge(\"ok_node\", END) \n",
    "graph = builder.compile() "
   ]
  },
  {
   "cell_type": "code",
   "execution_count": 12,
   "metadata": {},
   "outputs": [
    {
     "name": "stdout",
     "output_type": "stream",
     "text": [
      "Exception was raised because of invalid state\n",
      "At key 'a': Can receive only one value per step. Use an Annotated key to handle multiple values.\n",
      "For troubleshooting, visit: https://python.langchain.com/docs/troubleshooting/errors/INVALID_CONCURRENT_GRAPH_UPDATE\n"
     ]
    }
   ],
   "source": [
    "try:\n",
    "    graph.invoke({\"a\": \"Hitesh\"}) \n",
    "except Exception as e:\n",
    "    print(\"Exception was raised because of invalid state\") \n",
    "    print(e)\n"
   ]
  },
  {
   "cell_type": "markdown",
   "metadata": {},
   "source": [
    "### **Prompt Chaining**"
   ]
  },
  {
   "cell_type": "code",
   "execution_count": 13,
   "metadata": {},
   "outputs": [],
   "source": [
    "from typing import TypedDict \n",
    "from langgraph.graph import StateGraph, START, END \n",
    "from IPython.display import Image, display \n",
    " \n",
    "class State(TypedDict):\n",
    "    topic: str \n",
    "    joke: str \n",
    "    improved_joke: str \n",
    "    final_joke: str"
   ]
  },
  {
   "cell_type": "code",
   "execution_count": 50,
   "metadata": {},
   "outputs": [],
   "source": [
    "from langchain_openai import ChatOpenAI \n",
    "import os \n",
    "from dotenv import load_dotenv \n",
    "load_dotenv() \n",
    "\n",
    "os.environ[\"OPENAI_API_KEY\"] = os.getenv(\"OPENAI_API_KEY\")\n",
    "llm = ChatOpenAI(model=\"gpt-4o-mini\")"
   ]
  },
  {
   "cell_type": "code",
   "execution_count": 51,
   "metadata": {},
   "outputs": [],
   "source": [
    "def generate_joke(state: State):\n",
    "    \"\"\"Generate a joke about the topic\"\"\" \n",
    "    joke = llm.invoke(f\"Write a short joke about {state[\"topic\"]}\")\n",
    "    return {\"joke\": joke.content}  "
   ]
  },
  {
   "cell_type": "code",
   "execution_count": 75,
   "metadata": {},
   "outputs": [],
   "source": [
    "def check_punchline(state: State):\n",
    "    \"\"\"Check if the joke has a punchline\"\"\"\n",
    "    if state[\"joke\"].endswith(\"?\") or state[\"joke\"].endswith(\"!\"):\n",
    "        return \"Pass\"\n",
    "    return \"Failed\" "
   ]
  },
  {
   "cell_type": "code",
   "execution_count": 76,
   "metadata": {},
   "outputs": [],
   "source": [
    "def improve_joke(state: State):\n",
    "    \"\"\"Improve the joke with wordplay\"\"\" \n",
    "    improved_joke = llm.invoke(f\"Improve the joke with wordplay: {state[\"joke\"]}\") \n",
    "    return {\"improved_joke\": improved_joke.content} "
   ]
  },
  {
   "cell_type": "code",
   "execution_count": 77,
   "metadata": {},
   "outputs": [],
   "source": [
    "def polish_joke(state: State):\n",
    "    \"\"\"Add surprising twist to the joke\"\"\"  \n",
    "    final_joke = llm.invoke(f\"Add surprising twist to the joke: {state[\"improved_joke\"]}\") \n",
    "    return {\"final_joke\": final_joke.content}\n"
   ]
  },
  {
   "cell_type": "code",
   "execution_count": 78,
   "metadata": {},
   "outputs": [
    {
     "data": {
      "text/plain": [
       "<langgraph.graph.state.StateGraph at 0x1ff53a534d0>"
      ]
     },
     "execution_count": 78,
     "metadata": {},
     "output_type": "execute_result"
    }
   ],
   "source": [
    "# Build the workflow  \n",
    "workflow = StateGraph(State) \n",
    "\n",
    "# Workflow nodes  \n",
    "workflow.add_node(\"generate_joke\", generate_joke) \n",
    "workflow.add_node(\"improve_joke\", improve_joke) \n",
    "workflow.add_node(\"polish_joke\", polish_joke)\n",
    "\n",
    "# Workflow edges  \n",
    "workflow.add_edge(START, \"generate_joke\") \n",
    "workflow.add_conditional_edges(\"generate_joke\", check_punchline, {\"Failed\": \"improve_joke\", \"Pass\": END}) \n",
    "workflow.add_edge(\"improve_joke\", \"polish_joke\") \n",
    "workflow.add_edge(\"polish_joke\", END) "
   ]
  },
  {
   "cell_type": "code",
   "execution_count": 79,
   "metadata": {},
   "outputs": [],
   "source": [
    "graph = workflow.compile()"
   ]
  },
  {
   "cell_type": "code",
   "execution_count": 80,
   "metadata": {},
   "outputs": [
    {
     "data": {
      "image/png": "[encoded data removed]",
      "text/plain": [
       "<IPython.core.display.Image object>"
      ]
     },
     "metadata": {},
     "output_type": "display_data"
    }
   ],
   "source": [
    "display(Image(graph.get_graph().draw_mermaid_png()))"
   ]
  },
  {
   "cell_type": "code",
   "execution_count": 81,
   "metadata": {},
   "outputs": [],
   "source": [
    "state = graph.invoke({\"topic\": \"Hello?\"})"
   ]
  },
  {
   "cell_type": "code",
   "execution_count": 85,
   "metadata": {},
   "outputs": [
    {
     "name": "stdout",
     "output_type": "stream",
     "text": [
      "Hello?\n",
      "Why did the phone go to therapy?\n",
      "\n",
      "Because it couldn't stop saying, \"Hello? Can you hear me now?\"\n",
      "Why did the phone go to therapy? \n",
      "\n",
      "Because it couldn't stop having \"call\" issues and kept saying, \"Hello? Can you hear me dial-ing for help?\"\n",
      "Why did the phone go to therapy?\n",
      "\n",
      "Because it couldn't stop having \"call\" issues and kept saying, \"Hello? Can you hear me dial-ing for help?\" \n",
      "\n",
      "But then, during a breakthrough session, it revealed: \"I don't just want to be a smartphone—I want to be a smart **person**!\" Turns out, it was just trying to connect on a deeper level!\n"
     ]
    }
   ],
   "source": [
    "for i, j in state.items():\n",
    "    print(j)"
   ]
  },
  {
   "cell_type": "code",
   "execution_count": null,
   "metadata": {},
   "outputs": [],
   "source": []
  }
 ],
 "metadata": {
  "kernelspec": {
   "display_name": "Python 3",
   "language": "python",
   "name": "python3"
  },
  "language_info": {
   "codemirror_mode": {
    "name": "ipython",
    "version": 3
   },
   "file_extension": ".py",
   "mimetype": "text/x-python",
   "name": "python",
   "nbconvert_exporter": "python",
   "pygments_lexer": "ipython3",
   "version": "3.12.0"
  }
 },
 "nbformat": 4,
 "nbformat_minor": 2
}
